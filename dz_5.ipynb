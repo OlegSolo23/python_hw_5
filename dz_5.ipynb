{
 "cells": [
  {
   "cell_type": "code",
   "execution_count": 3,
   "metadata": {},
   "outputs": [],
   "source": [
    "#Задача 1"
   ]
  },
  {
   "cell_type": "code",
   "execution_count": 5,
   "metadata": {},
   "outputs": [],
   "source": [
    "i = 0\n",
    "d = {}\n",
    "import json\n",
    "with open('purchase_log.txt', encoding=\"utf8\") as f:\n",
    "    next(f)\n",
    "    for line in f:\n",
    "        line = line.strip()\n",
    "        dict_ = json.loads(line)\n",
    "        for k,v in dict_.items():\n",
    "            d[dict_['user_id']] = dict_['category']  "
   ]
  },
  {
   "cell_type": "code",
   "execution_count": null,
   "metadata": {},
   "outputs": [],
   "source": []
  },
  {
   "cell_type": "code",
   "execution_count": null,
   "metadata": {},
   "outputs": [],
   "source": [
    "#Задача 2"
   ]
  },
  {
   "cell_type": "code",
   "execution_count": null,
   "metadata": {},
   "outputs": [],
   "source": [
    "i = 0\n",
    "d = {}\n",
    "import json\n",
    "with open('purchase_log.txt', encoding=\"utf8\") as category, open('visit_log.csv', encoding=\"utf8\") as visits, open('visit_purchase.txt','w') as mixed:\n",
    "    next(category)\n",
    "    next(visits)\n",
    "    for line in category:\n",
    "        line = line.strip()\n",
    "        dict_ = json.loads(line)\n",
    "        for k,v in dict_.items():\n",
    "            d[dict_['user_id']] = dict_['category']  \n",
    "    for line in visits:\n",
    "        user = line.strip().split(',')[0]\n",
    "        source = line.strip().split(',')[1]\n",
    "        cat = str(d.get(user))\n",
    "        mixed.write(user + ',' + source + ',' + cat + '\\n')"
   ]
  },
  {
   "cell_type": "code",
   "execution_count": null,
   "metadata": {},
   "outputs": [],
   "source": [
    "#Задача 3"
   ]
  },
  {
   "cell_type": "code",
   "execution_count": null,
   "metadata": {},
   "outputs": [],
   "source": [
    "i = 0\n",
    "d = {}\n",
    "import json\n",
    "with open('purchase_log.txt', encoding=\"utf8\") as category, open('visit_log.csv', encoding=\"utf8\") as visits, open('funnel.csv','w') as mixed:\n",
    "    next(category)\n",
    "    next(visits)\n",
    "    for line in category:\n",
    "        line = line.strip()\n",
    "        dict_ = json.loads(line)\n",
    "        for k,v in dict_.items():\n",
    "            d[dict_['user_id']] = dict_['category']  \n",
    "    for line in visits:\n",
    "        user = line.strip().split(',')[0]\n",
    "        source = line.strip().split(',')[1]\n",
    "        if user in d.keys():\n",
    "            mixed.write(user + ',' + source + '\\n')\n",
    "        else:\n",
    "            continue"
   ]
  }
 ],
 "metadata": {
  "kernelspec": {
   "display_name": "Python 3",
   "language": "python",
   "name": "python3"
  },
  "language_info": {
   "codemirror_mode": {
    "name": "ipython",
    "version": 3
   },
   "file_extension": ".py",
   "mimetype": "text/x-python",
   "name": "python",
   "nbconvert_exporter": "python",
   "pygments_lexer": "ipython3",
   "version": "3.7.3"
  }
 },
 "nbformat": 4,
 "nbformat_minor": 2
}
